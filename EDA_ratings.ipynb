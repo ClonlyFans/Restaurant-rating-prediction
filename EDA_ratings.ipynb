{
 "cells": [
  {
   "cell_type": "markdown",
   "id": "0135e35a-cfb7-4c55-8925-2e0948e9910c",
   "metadata": {},
   "source": [
    "## Pulling data directly from kaggle to jupyter notebook"
   ]
  },
  {
   "cell_type": "code",
   "execution_count": 83,
   "id": "fae33571-4cd3-4888-8867-c08c90b943c2",
   "metadata": {},
   "outputs": [
    {
     "name": "stdout",
     "output_type": "stream",
     "text": [
      "Requirement already satisfied: kaggle in /opt/conda/lib/python3.10/site-packages (1.5.12)\n",
      "Requirement already satisfied: python-dateutil in /opt/conda/lib/python3.10/site-packages (from kaggle) (2.8.2)\n",
      "Requirement already satisfied: tqdm in /opt/conda/lib/python3.10/site-packages (from kaggle) (4.64.1)\n",
      "Requirement already satisfied: six>=1.10 in /opt/conda/lib/python3.10/site-packages (from kaggle) (1.16.0)\n",
      "Requirement already satisfied: certifi in /opt/conda/lib/python3.10/site-packages (from kaggle) (2022.9.24)\n",
      "Requirement already satisfied: urllib3 in /opt/conda/lib/python3.10/site-packages (from kaggle) (1.26.11)\n",
      "Requirement already satisfied: requests in /opt/conda/lib/python3.10/site-packages (from kaggle) (2.28.1)\n",
      "Requirement already satisfied: python-slugify in /opt/conda/lib/python3.10/site-packages (from kaggle) (7.0.0)\n",
      "Requirement already satisfied: text-unidecode>=1.3 in /opt/conda/lib/python3.10/site-packages (from python-slugify->kaggle) (1.3)\n",
      "Requirement already satisfied: idna<4,>=2.5 in /opt/conda/lib/python3.10/site-packages (from requests->kaggle) (3.4)\n",
      "Requirement already satisfied: charset-normalizer<3,>=2 in /opt/conda/lib/python3.10/site-packages (from requests->kaggle) (2.1.1)\n",
      "mkdir: cannot create directory ‘/home/jovyan/.kaggle’: File exists\n",
      "Downloading zomato-bangalore-restaurants.zip to /home/jovyan/work\n",
      "100%|█████████████████████████████████████▉| 89.0M/89.0M [00:02<00:00, 35.0MB/s]\n",
      "100%|██████████████████████████████████████| 89.0M/89.0M [00:02<00:00, 38.1MB/s]\n",
      "Archive:  zomato-bangalore-restaurants.zip\n",
      "  inflating: zomato.csv              \n"
     ]
    }
   ],
   "source": [
    "# !pip install kaggle\n",
    "# ! mkdir ~/.kaggle\n",
    "# ! cp kaggle.json ~/.kaggle/\n",
    "# ! chmod 600 ~/.kaggle/kaggle.json\n",
    "# ! kaggle datasets download -d  'himanshupoddar/zomato-bangalore-restaurants'\n",
    "# !unzip zomato-bangalore-restaurants.zip"
   ]
  },
  {
   "cell_type": "code",
   "execution_count": 6,
   "id": "62b094d9-efc4-4101-a969-8a095c000a93",
   "metadata": {},
   "outputs": [],
   "source": [
    "#importing required libraries\n",
    "import numpy as np\n",
    "import pandas as pd\n",
    "import seaborn as sns\n",
    "import matplotlib.pyplot as plt\n",
    "import warnings\n",
    "import re\n",
    "\n",
    "warnings.filterwarnings('ignore')\n",
    "%matplotlib inline"
   ]
  },
  {
   "cell_type": "code",
   "execution_count": null,
   "id": "a337ca39-33f7-4028-85e4-9edd48f3dcfb",
   "metadata": {},
   "outputs": [],
   "source": []
  },
  {
   "cell_type": "markdown",
   "id": "e2bbfa8c-d6b6-4286-81b0-42c919d3bd62",
   "metadata": {},
   "source": [
    "## Columns description\n",
    "\n",
    "- url contains the url of the restaurant in the zomato website\n",
    "\n",
    "- address contains the address of the restaurant in Bengaluru\n",
    "\n",
    "- name contains the name of the restaurant\n",
    "\n",
    "- online_order whether online ordering is available in the restaurant or not\n",
    "\n",
    "- book_table table book option available or not\n",
    "\n",
    "- rate contains the overall rating of the restaurant out of 5\n",
    "\n",
    "- votes contains total number of rating for the restaurant as of the above mentioned date\n",
    "\n",
    "- phone contains the phone number of the restaurant\n",
    "\n",
    "- location contains the neighborhood in which the restaurant is located\n",
    "\n",
    "- rest_type restaurant type\n",
    "\n",
    "- dish_liked dishes people liked in the restaurant\n",
    "\n",
    "- cuisines food styles, separated by comma\n",
    "\n",
    "- approx_cost(for two people) contains the approximate cost for meal for two people\n",
    "\n",
    "- reviews_list list of tuples containing reviews for the restaurant, each tuple\n",
    "\n",
    "- menu_item contains list of menus available in the restaurant\n",
    "\n",
    "- listed_in(type) type of meal\n",
    "\n",
    "- listed_in(city) contains the neighborhood in which the restaurant is listed"
   ]
  },
  {
   "cell_type": "code",
   "execution_count": 7,
   "id": "7ec11f2f-0be5-4606-8968-fdcac346c174",
   "metadata": {},
   "outputs": [],
   "source": [
    "zomato_df = pd.read_csv(\"zomato.csv\")"
   ]
  },
  {
   "cell_type": "code",
   "execution_count": 8,
   "id": "5cd29af2-faad-460b-a35c-c58575e618e5",
   "metadata": {},
   "outputs": [
    {
     "data": {
      "text/html": [
       "<div>\n",
       "<style scoped>\n",
       "    .dataframe tbody tr th:only-of-type {\n",
       "        vertical-align: middle;\n",
       "    }\n",
       "\n",
       "    .dataframe tbody tr th {\n",
       "        vertical-align: top;\n",
       "    }\n",
       "\n",
       "    .dataframe thead th {\n",
       "        text-align: right;\n",
       "    }\n",
       "</style>\n",
       "<table border=\"1\" class=\"dataframe\">\n",
       "  <thead>\n",
       "    <tr style=\"text-align: right;\">\n",
       "      <th></th>\n",
       "      <th>url</th>\n",
       "      <th>address</th>\n",
       "      <th>name</th>\n",
       "      <th>online_order</th>\n",
       "      <th>book_table</th>\n",
       "      <th>rate</th>\n",
       "      <th>votes</th>\n",
       "      <th>phone</th>\n",
       "      <th>location</th>\n",
       "      <th>rest_type</th>\n",
       "      <th>dish_liked</th>\n",
       "      <th>cuisines</th>\n",
       "      <th>approx_cost(for two people)</th>\n",
       "      <th>reviews_list</th>\n",
       "      <th>menu_item</th>\n",
       "      <th>listed_in(type)</th>\n",
       "      <th>listed_in(city)</th>\n",
       "    </tr>\n",
       "  </thead>\n",
       "  <tbody>\n",
       "    <tr>\n",
       "      <th>0</th>\n",
       "      <td>https://www.zomato.com/bangalore/jalsa-banasha...</td>\n",
       "      <td>942, 21st Main Road, 2nd Stage, Banashankari, ...</td>\n",
       "      <td>Jalsa</td>\n",
       "      <td>Yes</td>\n",
       "      <td>Yes</td>\n",
       "      <td>4.1/5</td>\n",
       "      <td>775</td>\n",
       "      <td>080 42297555\\r\\n+91 9743772233</td>\n",
       "      <td>Banashankari</td>\n",
       "      <td>Casual Dining</td>\n",
       "      <td>Pasta, Lunch Buffet, Masala Papad, Paneer Laja...</td>\n",
       "      <td>North Indian, Mughlai, Chinese</td>\n",
       "      <td>800</td>\n",
       "      <td>[('Rated 4.0', 'RATED\\n  A beautiful place to ...</td>\n",
       "      <td>[]</td>\n",
       "      <td>Buffet</td>\n",
       "      <td>Banashankari</td>\n",
       "    </tr>\n",
       "    <tr>\n",
       "      <th>1</th>\n",
       "      <td>https://www.zomato.com/bangalore/spice-elephan...</td>\n",
       "      <td>2nd Floor, 80 Feet Road, Near Big Bazaar, 6th ...</td>\n",
       "      <td>Spice Elephant</td>\n",
       "      <td>Yes</td>\n",
       "      <td>No</td>\n",
       "      <td>4.1/5</td>\n",
       "      <td>787</td>\n",
       "      <td>080 41714161</td>\n",
       "      <td>Banashankari</td>\n",
       "      <td>Casual Dining</td>\n",
       "      <td>Momos, Lunch Buffet, Chocolate Nirvana, Thai G...</td>\n",
       "      <td>Chinese, North Indian, Thai</td>\n",
       "      <td>800</td>\n",
       "      <td>[('Rated 4.0', 'RATED\\n  Had been here for din...</td>\n",
       "      <td>[]</td>\n",
       "      <td>Buffet</td>\n",
       "      <td>Banashankari</td>\n",
       "    </tr>\n",
       "    <tr>\n",
       "      <th>2</th>\n",
       "      <td>https://www.zomato.com/SanchurroBangalore?cont...</td>\n",
       "      <td>1112, Next to KIMS Medical College, 17th Cross...</td>\n",
       "      <td>San Churro Cafe</td>\n",
       "      <td>Yes</td>\n",
       "      <td>No</td>\n",
       "      <td>3.8/5</td>\n",
       "      <td>918</td>\n",
       "      <td>+91 9663487993</td>\n",
       "      <td>Banashankari</td>\n",
       "      <td>Cafe, Casual Dining</td>\n",
       "      <td>Churros, Cannelloni, Minestrone Soup, Hot Choc...</td>\n",
       "      <td>Cafe, Mexican, Italian</td>\n",
       "      <td>800</td>\n",
       "      <td>[('Rated 3.0', \"RATED\\n  Ambience is not that ...</td>\n",
       "      <td>[]</td>\n",
       "      <td>Buffet</td>\n",
       "      <td>Banashankari</td>\n",
       "    </tr>\n",
       "  </tbody>\n",
       "</table>\n",
       "</div>"
      ],
      "text/plain": [
       "                                                 url  \\\n",
       "0  https://www.zomato.com/bangalore/jalsa-banasha...   \n",
       "1  https://www.zomato.com/bangalore/spice-elephan...   \n",
       "2  https://www.zomato.com/SanchurroBangalore?cont...   \n",
       "\n",
       "                                             address             name  \\\n",
       "0  942, 21st Main Road, 2nd Stage, Banashankari, ...            Jalsa   \n",
       "1  2nd Floor, 80 Feet Road, Near Big Bazaar, 6th ...   Spice Elephant   \n",
       "2  1112, Next to KIMS Medical College, 17th Cross...  San Churro Cafe   \n",
       "\n",
       "  online_order book_table   rate  votes                           phone  \\\n",
       "0          Yes        Yes  4.1/5    775  080 42297555\\r\\n+91 9743772233   \n",
       "1          Yes         No  4.1/5    787                    080 41714161   \n",
       "2          Yes         No  3.8/5    918                  +91 9663487993   \n",
       "\n",
       "       location            rest_type  \\\n",
       "0  Banashankari        Casual Dining   \n",
       "1  Banashankari        Casual Dining   \n",
       "2  Banashankari  Cafe, Casual Dining   \n",
       "\n",
       "                                          dish_liked  \\\n",
       "0  Pasta, Lunch Buffet, Masala Papad, Paneer Laja...   \n",
       "1  Momos, Lunch Buffet, Chocolate Nirvana, Thai G...   \n",
       "2  Churros, Cannelloni, Minestrone Soup, Hot Choc...   \n",
       "\n",
       "                         cuisines approx_cost(for two people)  \\\n",
       "0  North Indian, Mughlai, Chinese                         800   \n",
       "1     Chinese, North Indian, Thai                         800   \n",
       "2          Cafe, Mexican, Italian                         800   \n",
       "\n",
       "                                        reviews_list menu_item  \\\n",
       "0  [('Rated 4.0', 'RATED\\n  A beautiful place to ...        []   \n",
       "1  [('Rated 4.0', 'RATED\\n  Had been here for din...        []   \n",
       "2  [('Rated 3.0', \"RATED\\n  Ambience is not that ...        []   \n",
       "\n",
       "  listed_in(type) listed_in(city)  \n",
       "0          Buffet    Banashankari  \n",
       "1          Buffet    Banashankari  \n",
       "2          Buffet    Banashankari  "
      ]
     },
     "execution_count": 8,
     "metadata": {},
     "output_type": "execute_result"
    }
   ],
   "source": [
    "zomato_df.head(3)"
   ]
  },
  {
   "cell_type": "code",
   "execution_count": 9,
   "id": "1c726a39-750d-4629-8212-ae88a66891e2",
   "metadata": {},
   "outputs": [
    {
     "data": {
      "text/plain": [
       "Index(['url', 'address', 'name', 'online_order', 'book_table', 'rate', 'votes',\n",
       "       'phone', 'location', 'rest_type', 'dish_liked', 'cuisines',\n",
       "       'approx_cost(for two people)', 'reviews_list', 'menu_item',\n",
       "       'listed_in(type)', 'listed_in(city)'],\n",
       "      dtype='object')"
      ]
     },
     "execution_count": 9,
     "metadata": {},
     "output_type": "execute_result"
    }
   ],
   "source": [
    "zomato_df.columns"
   ]
  },
  {
   "cell_type": "code",
   "execution_count": 10,
   "id": "d4a38f0d-ab04-45b0-a04e-f1e40aa6d06a",
   "metadata": {},
   "outputs": [],
   "source": [
    "zomato_df=zomato_df.rename(columns={\"approx_cost(for two people)\":\"cost\"})"
   ]
  },
  {
   "cell_type": "code",
   "execution_count": 11,
   "id": "0a9aba6a-af69-40dc-b88b-ebf497009e94",
   "metadata": {},
   "outputs": [
    {
     "data": {
      "text/plain": [
       "(51717, 17)"
      ]
     },
     "execution_count": 11,
     "metadata": {},
     "output_type": "execute_result"
    }
   ],
   "source": [
    "zomato_df.shape"
   ]
  },
  {
   "cell_type": "code",
   "execution_count": 12,
   "id": "5c6967e9-ef2d-448e-a6f1-b341250789cd",
   "metadata": {},
   "outputs": [
    {
     "data": {
      "text/plain": [
       "url                object\n",
       "address            object\n",
       "name               object\n",
       "online_order       object\n",
       "book_table         object\n",
       "rate               object\n",
       "votes               int64\n",
       "phone              object\n",
       "location           object\n",
       "rest_type          object\n",
       "dish_liked         object\n",
       "cuisines           object\n",
       "cost               object\n",
       "reviews_list       object\n",
       "menu_item          object\n",
       "listed_in(type)    object\n",
       "listed_in(city)    object\n",
       "dtype: object"
      ]
     },
     "execution_count": 12,
     "metadata": {},
     "output_type": "execute_result"
    }
   ],
   "source": [
    "zomato_df.dtypes"
   ]
  },
  {
   "cell_type": "code",
   "execution_count": 13,
   "id": "65b695ff-1328-43fb-8fee-7902d7f39e96",
   "metadata": {},
   "outputs": [
    {
     "data": {
      "text/plain": [
       "array(['800', '300', '600', '700', '550', '500', '450', '650', '400',\n",
       "       '900', '200', '750', '150', '850', '100', '1,200', '350', '250',\n",
       "       '950', '1,000', '1,500', '1,300', '199', '80', '1,100', '160',\n",
       "       '1,600', '230', '130', '50', '190', '1,700', nan, '1,400', '180',\n",
       "       '1,350', '2,200', '2,000', '1,800', '1,900', '330', '2,500',\n",
       "       '2,100', '3,000', '2,800', '3,400', '40', '1,250', '3,500',\n",
       "       '4,000', '2,400', '2,600', '120', '1,450', '469', '70', '3,200',\n",
       "       '60', '560', '240', '360', '6,000', '1,050', '2,300', '4,100',\n",
       "       '5,000', '3,700', '1,650', '2,700', '4,500', '140'], dtype=object)"
      ]
     },
     "execution_count": 13,
     "metadata": {},
     "output_type": "execute_result"
    }
   ],
   "source": [
    "zomato_df[\"cost\"].unique()"
   ]
  },
  {
   "cell_type": "code",
   "execution_count": 14,
   "id": "ce36f45f-5266-4ea8-b64d-559ab5bc226d",
   "metadata": {},
   "outputs": [],
   "source": [
    "zomato_df[\"cost\"]=zomato_df[\"cost\"].astype(str)\n",
    "zomato_df[\"cost\"]=zomato_df[\"cost\"].apply(lambda x: x.replace(\",\",\"\")).astype(float)"
   ]
  },
  {
   "cell_type": "code",
   "execution_count": 15,
   "id": "afa4624a-c5ec-468e-8263-9efad659f463",
   "metadata": {},
   "outputs": [
    {
     "data": {
      "text/plain": [
       "0         800.0\n",
       "1         800.0\n",
       "2         800.0\n",
       "3         300.0\n",
       "4         600.0\n",
       "          ...  \n",
       "51712    1500.0\n",
       "51713     600.0\n",
       "51714    2000.0\n",
       "51715    2500.0\n",
       "51716    1500.0\n",
       "Name: cost, Length: 51717, dtype: float64"
      ]
     },
     "execution_count": 15,
     "metadata": {},
     "output_type": "execute_result"
    }
   ],
   "source": [
    "zomato_df[\"cost\"]"
   ]
  },
  {
   "cell_type": "code",
   "execution_count": 16,
   "id": "276000b8-a41a-4e0f-9d97-296589a5ed71",
   "metadata": {},
   "outputs": [],
   "source": [
    "zomato_df_object=zomato_df.select_dtypes(include=\"object\").astype(str)\n",
    "col=zomato_df_object.columns.to_list()"
   ]
  },
  {
   "cell_type": "code",
   "execution_count": 17,
   "id": "2c8bd753-ba2f-43b9-a2e3-f770e5698134",
   "metadata": {},
   "outputs": [],
   "source": [
    "# for col_name in zomato_df_object.columns.to_list():\n",
    "#     print(col_name,\":\",zomato_df_object[zomato_df_object[col_name].apply(lambda x: x.isnumeric())])"
   ]
  },
  {
   "cell_type": "code",
   "execution_count": 18,
   "id": "471edec7-7828-4e26-a75f-69ab7fc295b9",
   "metadata": {},
   "outputs": [
    {
     "data": {
      "text/plain": [
       "0"
      ]
     },
     "execution_count": 18,
     "metadata": {},
     "output_type": "execute_result"
    }
   ],
   "source": [
    "zomato_df.duplicated(keep=\"first\").sum()"
   ]
  },
  {
   "cell_type": "code",
   "execution_count": 19,
   "id": "2aa0abe8-9cae-4d64-86c1-0f0807c65f12",
   "metadata": {},
   "outputs": [
    {
     "data": {
      "text/plain": [
       "url                    0\n",
       "address                0\n",
       "name                   0\n",
       "online_order           0\n",
       "book_table             0\n",
       "rate                7775\n",
       "votes                  0\n",
       "phone               1208\n",
       "location              21\n",
       "rest_type            227\n",
       "dish_liked         28078\n",
       "cuisines              45\n",
       "cost                 346\n",
       "reviews_list           0\n",
       "menu_item              0\n",
       "listed_in(type)        0\n",
       "listed_in(city)        0\n",
       "dtype: int64"
      ]
     },
     "execution_count": 19,
     "metadata": {},
     "output_type": "execute_result"
    }
   ],
   "source": [
    "zomato_df.isnull().sum()"
   ]
  },
  {
   "cell_type": "code",
   "execution_count": 20,
   "id": "5782ac6c-35f8-4865-a15c-0f83e2c63f91",
   "metadata": {},
   "outputs": [
    {
     "data": {
      "image/png": "[encoded data removed]",
      "text/plain": [
       "<Figure size 2000x1000 with 1 Axes>"
      ]
     },
     "metadata": {},
     "output_type": "display_data"
    }
   ],
   "source": [
    "fig, ax = plt.subplots(figsize=(20,10))\n",
    "missing = zomato_df.isnull().sum().div(zomato_df.shape[0]).mul(100).to_frame().sort_values(by =0, ascending=False)\n",
    "plt.barh(missing.index, missing.values.T[0])\n",
    "plt.xlabel('Percentage of missing values')\n",
    "plt.ylabel(\"variables\")\n",
    "plt.title('Quantifying missing data');"
   ]
  },
  {
   "cell_type": "code",
   "execution_count": 21,
   "id": "f9eddd8c-b481-4fee-96af-e226d63913c3",
   "metadata": {},
   "outputs": [],
   "source": [
    "#Dropping col having missing values more than 50%\n",
    "def drop_column_50(df):\n",
    "    percentage_missing = df.isnull().sum().div(df.shape[0]).mul(100)\n",
    "    col_drop=percentage_missing[percentage_missing.values>50]\n",
    "    df=df.drop(col_drop.index, axis=1)\n",
    "    return df.columns"
   ]
  },
  {
   "cell_type": "code",
   "execution_count": 22,
   "id": "3df3dea4-446c-4610-a319-c59283e85a2e",
   "metadata": {},
   "outputs": [
    {
     "data": {
      "text/plain": [
       "Index(['url', 'address', 'name', 'online_order', 'book_table', 'rate', 'votes',\n",
       "       'phone', 'location', 'rest_type', 'cuisines', 'cost', 'reviews_list',\n",
       "       'menu_item', 'listed_in(type)', 'listed_in(city)'],\n",
       "      dtype='object')"
      ]
     },
     "execution_count": 22,
     "metadata": {},
     "output_type": "execute_result"
    }
   ],
   "source": [
    "drop_column_50(zomato_df)"
   ]
  },
  {
   "cell_type": "code",
   "execution_count": 23,
   "id": "b08cc4db-ad35-4875-a3ee-a83bdb639ae2",
   "metadata": {},
   "outputs": [],
   "source": [
    "#zomato_df[\"menu_item\"].value_counts(normalize=True)*100"
   ]
  },
  {
   "cell_type": "code",
   "execution_count": 24,
   "id": "ec4a4d4f-615c-40d6-be1e-a3cb25f354f6",
   "metadata": {},
   "outputs": [],
   "source": [
    "# Dropping menu_item col having >70% of irrelavant datas\n",
    "zomato_df.drop(\"menu_item\", inplace=True, axis=1 )"
   ]
  },
  {
   "cell_type": "code",
   "execution_count": 25,
   "id": "54351250-c119-43e2-ae70-f88e271d9108",
   "metadata": {},
   "outputs": [
    {
     "data": {
      "text/plain": [
       "Index(['url', 'address', 'name', 'online_order', 'book_table', 'rate', 'votes',\n",
       "       'phone', 'location', 'rest_type', 'dish_liked', 'cuisines', 'cost',\n",
       "       'reviews_list', 'listed_in(type)', 'listed_in(city)'],\n",
       "      dtype='object')"
      ]
     },
     "execution_count": 25,
     "metadata": {},
     "output_type": "execute_result"
    }
   ],
   "source": [
    "zomato_df.columns"
   ]
  },
  {
   "cell_type": "code",
   "execution_count": 29,
   "id": "e09595c5-8b53-453a-80a6-f0c05175401c",
   "metadata": {},
   "outputs": [
    {
     "data": {
      "text/html": [
       "<div>\n",
       "<style scoped>\n",
       "    .dataframe tbody tr th:only-of-type {\n",
       "        vertical-align: middle;\n",
       "    }\n",
       "\n",
       "    .dataframe tbody tr th {\n",
       "        vertical-align: top;\n",
       "    }\n",
       "\n",
       "    .dataframe thead th {\n",
       "        text-align: right;\n",
       "    }\n",
       "</style>\n",
       "<table border=\"1\" class=\"dataframe\">\n",
       "  <thead>\n",
       "    <tr style=\"text-align: right;\">\n",
       "      <th></th>\n",
       "      <th>location</th>\n",
       "      <th>listed_in(city)</th>\n",
       "    </tr>\n",
       "  </thead>\n",
       "  <tbody>\n",
       "    <tr>\n",
       "      <th>0</th>\n",
       "      <td>Banashankari</td>\n",
       "      <td>Banashankari</td>\n",
       "    </tr>\n",
       "    <tr>\n",
       "      <th>1</th>\n",
       "      <td>Banashankari</td>\n",
       "      <td>Banashankari</td>\n",
       "    </tr>\n",
       "    <tr>\n",
       "      <th>2</th>\n",
       "      <td>Banashankari</td>\n",
       "      <td>Banashankari</td>\n",
       "    </tr>\n",
       "    <tr>\n",
       "      <th>3</th>\n",
       "      <td>Banashankari</td>\n",
       "      <td>Banashankari</td>\n",
       "    </tr>\n",
       "    <tr>\n",
       "      <th>4</th>\n",
       "      <td>Basavanagudi</td>\n",
       "      <td>Banashankari</td>\n",
       "    </tr>\n",
       "    <tr>\n",
       "      <th>...</th>\n",
       "      <td>...</td>\n",
       "      <td>...</td>\n",
       "    </tr>\n",
       "    <tr>\n",
       "      <th>51712</th>\n",
       "      <td>Whitefield</td>\n",
       "      <td>Whitefield</td>\n",
       "    </tr>\n",
       "    <tr>\n",
       "      <th>51713</th>\n",
       "      <td>Whitefield</td>\n",
       "      <td>Whitefield</td>\n",
       "    </tr>\n",
       "    <tr>\n",
       "      <th>51714</th>\n",
       "      <td>Whitefield</td>\n",
       "      <td>Whitefield</td>\n",
       "    </tr>\n",
       "    <tr>\n",
       "      <th>51715</th>\n",
       "      <td>ITPL Main Road, Whitefield</td>\n",
       "      <td>Whitefield</td>\n",
       "    </tr>\n",
       "    <tr>\n",
       "      <th>51716</th>\n",
       "      <td>ITPL Main Road, Whitefield</td>\n",
       "      <td>Whitefield</td>\n",
       "    </tr>\n",
       "  </tbody>\n",
       "</table>\n",
       "<p>51717 rows × 2 columns</p>\n",
       "</div>"
      ],
      "text/plain": [
       "                         location listed_in(city)\n",
       "0                    Banashankari    Banashankari\n",
       "1                    Banashankari    Banashankari\n",
       "2                    Banashankari    Banashankari\n",
       "3                    Banashankari    Banashankari\n",
       "4                    Basavanagudi    Banashankari\n",
       "...                           ...             ...\n",
       "51712                  Whitefield      Whitefield\n",
       "51713                  Whitefield      Whitefield\n",
       "51714                  Whitefield      Whitefield\n",
       "51715  ITPL Main Road, Whitefield      Whitefield\n",
       "51716  ITPL Main Road, Whitefield      Whitefield\n",
       "\n",
       "[51717 rows x 2 columns]"
      ]
     },
     "execution_count": 29,
     "metadata": {},
     "output_type": "execute_result"
    }
   ],
   "source": [
    "# zomato_df.loc[:, [\"location\",\"listed_in(city)\"]]"
   ]
  },
  {
   "cell_type": "code",
   "execution_count": 30,
   "id": "d76f584c-db15-491c-8cc2-68c667f730da",
   "metadata": {},
   "outputs": [
    {
     "data": {
      "text/plain": [
       "Biryani                                                                                              182\n",
       "Chicken Biryani                                                                                       73\n",
       "Friendly Staff                                                                                        69\n",
       "Waffles                                                                                               68\n",
       "Paratha                                                                                               57\n",
       "                                                                                                    ... \n",
       "Butter Chicken, Shawarma Roll, Chicken Shawarama, Chicken Grill, Rolls, Al Faham Chicken, Biryani      1\n",
       "Filter Coffee, Sandwich, Bonda, Vada, Masala Dosa, Salad, Aloo Curry                                   1\n",
       "Burgers, Fries, Jumbo Royale Burger, Salads, Peri Peri Chicken Salad, Potato Wedges, Rolls             1\n",
       "Chaat, Pav Bhaji, Raj Kachori, Buttermilk, Ajwaini Paratha, Tawa Pulav, Sev Puri                       1\n",
       "Paratha, Dal Makhani, Lassi, Naan, Veg Thali, Chole, Kulcha                                            1\n",
       "Name: dish_liked, Length: 5271, dtype: int64"
      ]
     },
     "execution_count": 30,
     "metadata": {},
     "output_type": "execute_result"
    }
   ],
   "source": [
    "# zomato_df[\"dish_liked\"].value_counts()"
   ]
  },
  {
   "cell_type": "markdown",
   "id": "e2667b91-c899-4f4f-9231-880dba567b7f",
   "metadata": {},
   "source": [
    "## Transforming the rate column "
   ]
  },
  {
   "cell_type": "code",
   "execution_count": 32,
   "id": "c2b90f73-d507-4016-b7ef-d691fec2994e",
   "metadata": {},
   "outputs": [
    {
     "data": {
      "text/plain": [
       "NEW       0.050248\n",
       "3.9/5     0.047745\n",
       "3.8/5     0.046015\n",
       "3.7/5     0.045765\n",
       "3.9 /5    0.042647\n",
       "            ...   \n",
       "2.2 /5    0.000159\n",
       "2.0 /5    0.000159\n",
       "2.0/5     0.000091\n",
       "1.8 /5    0.000068\n",
       "1.8/5     0.000046\n",
       "Name: rate, Length: 64, dtype: float64"
      ]
     },
     "execution_count": 32,
     "metadata": {},
     "output_type": "execute_result"
    }
   ],
   "source": [
    "zomato_df[\"rate\"].value_counts(normalize=True)"
   ]
  },
  {
   "cell_type": "code",
   "execution_count": 33,
   "id": "d73f6bbd-fa60-4efa-bbde-e299124e6c18",
   "metadata": {},
   "outputs": [],
   "source": [
    "zomato_df[\"rate\"]=zomato_df[\"rate\"].astype(str)\n",
    "zomato_df[\"rate\"]=zomato_df[\"rate\"].apply(lambda x: x.replace(\"/5\", \"\")).apply(lambda x: x.strip())\n",
    "zomato_df[\"rate\"]=zomato_df[\"rate\"].apply(lambda x: x.replace(\"NEW\", str(np.nan)).replace(\"-\", str(np.nan)))\n",
    "zomato_df[\"rate\"]=zomato_df[\"rate\"].replace(\"nan\", 0.0).astype(float)"
   ]
  },
  {
   "cell_type": "code",
   "execution_count": 34,
   "id": "f6bfbb0a-39d0-45e6-a6e9-cb83fa0dc38e",
   "metadata": {},
   "outputs": [],
   "source": [
    "#zomato_df[\"rate\"].value_counts()\n",
    "# zomato_df[\"rate\"].value_counts(normalize=True)"
   ]
  },
  {
   "cell_type": "code",
   "execution_count": 35,
   "id": "4116f687-8f2e-497e-a747-bc5a8c9d5e52",
   "metadata": {},
   "outputs": [
    {
     "data": {
      "text/plain": [
       "0        [4.0, 4.0, 2.0, 4.0, 5.0, 5.0, 4.0, 4.0, 5.0, ...\n",
       "1        [4.0, 3.0, 3.0, 4.0, 4.0, 5.0, 4.0, 2.0, 4.0, ...\n",
       "2        [3.0, 3.0, 4.0, 3.0, 3.0, 1.0, 3.0, 1.0, 4.0, ...\n",
       "3        [4.0, 2.0, 4.0, 2.0, 4.0, 5.0, 4.0, 5.0, 3.5, ...\n",
       "4                                               [4.0, 4.0]\n",
       "                               ...                        \n",
       "51712    [5.0, 3.5, 2.5, 3.5, 5.0, 5.0, 4.5, 5.0, 5.0, ...\n",
       "51713                                                   []\n",
       "51714                                                   []\n",
       "51715                       [4.0, 1.0, 5.0, 5.0, 5.0, 4.0]\n",
       "51716                                           [5.0, 5.0]\n",
       "Name: str_reviews_list, Length: 51717, dtype: object"
      ]
     },
     "execution_count": 35,
     "metadata": {},
     "output_type": "execute_result"
    }
   ],
   "source": [
    "#Extracting the datas from reviews_list col and Transforming the review_list col to ratings \n",
    "zomato_df[\"reviews_list\"]=zomato_df[\"reviews_list\"].replace('[]',0.0)\n",
    "zomato_df[\"str_reviews_list\"]=zomato_df[\"reviews_list\"].apply(lambda x : re.findall(r'Rated *\\d+\\.\\d+', str(x))).apply(lambda x : re.findall(r'\\d+\\.\\d+', str(x)))\n",
    "zomato_df[\"str_reviews_list\"]"
   ]
  },
  {
   "cell_type": "code",
   "execution_count": 36,
   "id": "510d0c39-57e5-4ad8-82d4-e13b9bbeaca1",
   "metadata": {},
   "outputs": [],
   "source": [
    "# df1=zomato_df.query(\"rate==0.0\")[[\"rate\",\"reviews_list\"]]\n",
    "# df1\n",
    "# df2=df1[df1[\"reviews_list\"]!=0]\n",
    "# df2"
   ]
  },
  {
   "cell_type": "code",
   "execution_count": 37,
   "id": "e27a41b0-b189-4390-91fe-d33d8c9b9c2c",
   "metadata": {},
   "outputs": [
    {
     "data": {
      "text/plain": [
       "0        4.1\n",
       "1        3.6\n",
       "2        3.2\n",
       "3        3.7\n",
       "4        4.0\n",
       "        ... \n",
       "51712    4.1\n",
       "51713    NaN\n",
       "51714    NaN\n",
       "51715    4.0\n",
       "51716    5.0\n",
       "Name: mean_reviews_list, Length: 51717, dtype: float64"
      ]
     },
     "execution_count": 37,
     "metadata": {},
     "output_type": "execute_result"
    }
   ],
   "source": [
    "#Extracting relavat ratings and Averaging\n",
    "zomato_df[\"mean_reviews_list\"]=zomato_df[\"str_reviews_list\"].apply(lambda x : re.findall(r'\\d+\\.\\d+', str(x))).apply(lambda x: list(map(float,x)))\n",
    "zomato_df[\"mean_reviews_list\"]=zomato_df[\"mean_reviews_list\"].apply(lambda x : round(np.mean(x),1))\n",
    "zomato_df[\"mean_reviews_list\"]"
   ]
  },
  {
   "cell_type": "code",
   "execution_count": 38,
   "id": "7e5a4254-091d-48df-8402-38a0fac6f718",
   "metadata": {},
   "outputs": [],
   "source": [
    "# zomato_df[[\"mean_reviews_list\"]].value_counts().to_frame().sort_values(by=\"mean_reviews_list\",ascending=False)"
   ]
  },
  {
   "cell_type": "code",
   "execution_count": 39,
   "id": "769e20a0-60d0-4784-b5e9-26e9797cedd2",
   "metadata": {},
   "outputs": [
    {
     "data": {
      "text/plain": [
       "4.0    5075\n",
       "4.2    4694\n",
       "3.8    4681\n",
       "3.6    3343\n",
       "3.4    3022\n",
       "4.4    2334\n",
       "3.2    2115\n",
       "3.9    1951\n",
       "4.1    1614\n",
       "3.0    1490\n",
       "3.7    1325\n",
       "2.5    1254\n",
       "2.8    1104\n",
       "4.3     977\n",
       "3.5     924\n",
       "3.3     875\n",
       "2.0     870\n",
       "3.1     718\n",
       "2.6     691\n",
       "2.4     667\n",
       "2.9     558\n",
       "2.2     527\n",
       "0.5     483\n",
       "4.6     427\n",
       "1.5     422\n",
       "4.5     367\n",
       "2.7     324\n",
       "1.8     296\n",
       "2.3     167\n",
       "2.1     166\n",
       "1.0     144\n",
       "1.2     127\n",
       "1.9      97\n",
       "1.6      69\n",
       "1.4      50\n",
       "4.8      40\n",
       "4.7      37\n",
       "0.8      31\n",
       "1.7      24\n",
       "0.9      13\n",
       "0.6      12\n",
       "1.1       8\n",
       "0.7       7\n",
       "1.3       2\n",
       "Name: rate, dtype: int64"
      ]
     },
     "execution_count": 39,
     "metadata": {},
     "output_type": "execute_result"
    }
   ],
   "source": [
    "#Averaging the mean_review_list and rate column to get final rate column\n",
    "zomato_df[\"rate\"] =round((zomato_df[\"rate\"] + zomato_df[\"mean_reviews_list\"])/2,1)\n",
    "zomato_df[\"rate\"].value_counts()"
   ]
  },
  {
   "cell_type": "code",
   "execution_count": 40,
   "id": "16498f9f-fdc1-4521-9fd9-28ecefe6c80f",
   "metadata": {},
   "outputs": [],
   "source": [
    "#Converting ratings \n",
    "def ratings(value):\n",
    "    if (value > 0.0 and value <= 0.5): \n",
    "        return 0.0\n",
    "    elif (value > 0.5 and value <= 1.4): \n",
    "        return 1.0\n",
    "    elif (value > 1.4 and value <= 2.4): \n",
    "        return 2.0\n",
    "    elif (value > 2.4 and value <= 3.4):\n",
    "        return 3.0\n",
    "    elif (value > 3.4 and value <= 4.4):\n",
    "        return 4.0\n",
    "    else:\n",
    "        return 5.0"
   ]
  },
  {
   "cell_type": "code",
   "execution_count": 41,
   "id": "6a06f320-ee5a-4a28-880e-5637f82bd131",
   "metadata": {},
   "outputs": [
    {
     "data": {
      "text/plain": [
       "4.0    26918\n",
       "3.0    12151\n",
       "5.0     8466\n",
       "2.0     3305\n",
       "0.0      483\n",
       "1.0      394\n",
       "Name: rate, dtype: int64"
      ]
     },
     "execution_count": 41,
     "metadata": {},
     "output_type": "execute_result"
    }
   ],
   "source": [
    "zomato_df[\"rate\"]=zomato_df[\"rate\"].apply(ratings)\n",
    "zomato_df[\"rate\"].value_counts()"
   ]
  },
  {
   "cell_type": "code",
   "execution_count": 42,
   "id": "a91f2807-2e18-46b6-9d37-f3b571539f05",
   "metadata": {},
   "outputs": [
    {
     "data": {
      "text/plain": [
       "<AxesSubplot: xlabel='rate', ylabel='count'>"
      ]
     },
     "execution_count": 42,
     "metadata": {},
     "output_type": "execute_result"
    },
    {
     "data": {
      "image/png": "[encoded data removed]",
      "text/plain": [
       "<Figure size 2500x1000 with 1 Axes>"
      ]
     },
     "metadata": {},
     "output_type": "display_data"
    }
   ],
   "source": [
    "plt.figure(figsize=(25,10))\n",
    "sns.countplot(data=zomato_df,x=zomato_df[\"rate\"].sort_values(ascending = True))"
   ]
  },
  {
   "cell_type": "code",
   "execution_count": 95,
   "id": "e250bb25-c8ce-407f-8300-78b3a6034471",
   "metadata": {},
   "outputs": [],
   "source": [
    "cols_to_drop ={\"drop_columns\": [\"url\", \"address\", \"name\", \"phone\", \"location\",\"rest_type\",\"dish_liked\", \"reviews_list\",\"str_reviews_list\",\"mean_reviews_list\" ]}\n",
    "cols_to_keep={\"columns\":[\"online_order\", \"book_table\", \"rate\", \"votes\" ,\"listed_in(type)\", \"cuisines\", \"cost\", \"listed_in(city)\" ]}"
   ]
  },
  {
   "cell_type": "code",
   "execution_count": 71,
   "id": "7100618b-8c2b-4592-9353-07f0c050ace3",
   "metadata": {},
   "outputs": [],
   "source": [
    "# df_catg=df.select_dtypes(include=\"object\")\n",
    "# catg_col=df_catg.columns.values\n",
    "    \n",
    "# df_num=df.select_dtypes(include=\"number\")\n",
    "# num_col=df_num.columns.values"
   ]
  },
  {
   "cell_type": "code",
   "execution_count": 73,
   "id": "9c838025-086d-4994-8b5c-b15e58e7d3ac",
   "metadata": {},
   "outputs": [
    {
     "data": {
      "text/html": [
       "<div>\n",
       "<style scoped>\n",
       "    .dataframe tbody tr th:only-of-type {\n",
       "        vertical-align: middle;\n",
       "    }\n",
       "\n",
       "    .dataframe tbody tr th {\n",
       "        vertical-align: top;\n",
       "    }\n",
       "\n",
       "    .dataframe thead th {\n",
       "        text-align: right;\n",
       "    }\n",
       "</style>\n",
       "<table border=\"1\" class=\"dataframe\">\n",
       "  <thead>\n",
       "    <tr style=\"text-align: right;\">\n",
       "      <th></th>\n",
       "      <th>online_order</th>\n",
       "      <th>book_table</th>\n",
       "      <th>rate</th>\n",
       "      <th>votes</th>\n",
       "      <th>cuisines</th>\n",
       "      <th>cost</th>\n",
       "      <th>listed_in(type)</th>\n",
       "      <th>listed_in(city)</th>\n",
       "    </tr>\n",
       "  </thead>\n",
       "  <tbody>\n",
       "    <tr>\n",
       "      <th>0</th>\n",
       "      <td>Yes</td>\n",
       "      <td>Yes</td>\n",
       "      <td>4.0</td>\n",
       "      <td>775</td>\n",
       "      <td>North Indian, Mughlai, Chinese</td>\n",
       "      <td>800.0</td>\n",
       "      <td>Buffet</td>\n",
       "      <td>Banashankari</td>\n",
       "    </tr>\n",
       "    <tr>\n",
       "      <th>1</th>\n",
       "      <td>Yes</td>\n",
       "      <td>No</td>\n",
       "      <td>4.0</td>\n",
       "      <td>787</td>\n",
       "      <td>Chinese, North Indian, Thai</td>\n",
       "      <td>800.0</td>\n",
       "      <td>Buffet</td>\n",
       "      <td>Banashankari</td>\n",
       "    </tr>\n",
       "    <tr>\n",
       "      <th>2</th>\n",
       "      <td>Yes</td>\n",
       "      <td>No</td>\n",
       "      <td>4.0</td>\n",
       "      <td>918</td>\n",
       "      <td>Cafe, Mexican, Italian</td>\n",
       "      <td>800.0</td>\n",
       "      <td>Buffet</td>\n",
       "      <td>Banashankari</td>\n",
       "    </tr>\n",
       "    <tr>\n",
       "      <th>3</th>\n",
       "      <td>No</td>\n",
       "      <td>No</td>\n",
       "      <td>4.0</td>\n",
       "      <td>88</td>\n",
       "      <td>South Indian, North Indian</td>\n",
       "      <td>300.0</td>\n",
       "      <td>Buffet</td>\n",
       "      <td>Banashankari</td>\n",
       "    </tr>\n",
       "    <tr>\n",
       "      <th>4</th>\n",
       "      <td>No</td>\n",
       "      <td>No</td>\n",
       "      <td>4.0</td>\n",
       "      <td>166</td>\n",
       "      <td>North Indian, Rajasthani</td>\n",
       "      <td>600.0</td>\n",
       "      <td>Buffet</td>\n",
       "      <td>Banashankari</td>\n",
       "    </tr>\n",
       "    <tr>\n",
       "      <th>...</th>\n",
       "      <td>...</td>\n",
       "      <td>...</td>\n",
       "      <td>...</td>\n",
       "      <td>...</td>\n",
       "      <td>...</td>\n",
       "      <td>...</td>\n",
       "      <td>...</td>\n",
       "      <td>...</td>\n",
       "    </tr>\n",
       "    <tr>\n",
       "      <th>51712</th>\n",
       "      <td>No</td>\n",
       "      <td>No</td>\n",
       "      <td>4.0</td>\n",
       "      <td>27</td>\n",
       "      <td>Continental</td>\n",
       "      <td>1500.0</td>\n",
       "      <td>Pubs and bars</td>\n",
       "      <td>Whitefield</td>\n",
       "    </tr>\n",
       "    <tr>\n",
       "      <th>51713</th>\n",
       "      <td>No</td>\n",
       "      <td>No</td>\n",
       "      <td>5.0</td>\n",
       "      <td>0</td>\n",
       "      <td>Finger Food</td>\n",
       "      <td>600.0</td>\n",
       "      <td>Pubs and bars</td>\n",
       "      <td>Whitefield</td>\n",
       "    </tr>\n",
       "    <tr>\n",
       "      <th>51714</th>\n",
       "      <td>No</td>\n",
       "      <td>No</td>\n",
       "      <td>5.0</td>\n",
       "      <td>0</td>\n",
       "      <td>Finger Food</td>\n",
       "      <td>2000.0</td>\n",
       "      <td>Pubs and bars</td>\n",
       "      <td>Whitefield</td>\n",
       "    </tr>\n",
       "    <tr>\n",
       "      <th>51715</th>\n",
       "      <td>No</td>\n",
       "      <td>Yes</td>\n",
       "      <td>4.0</td>\n",
       "      <td>236</td>\n",
       "      <td>Finger Food</td>\n",
       "      <td>2500.0</td>\n",
       "      <td>Pubs and bars</td>\n",
       "      <td>Whitefield</td>\n",
       "    </tr>\n",
       "    <tr>\n",
       "      <th>51716</th>\n",
       "      <td>No</td>\n",
       "      <td>No</td>\n",
       "      <td>4.0</td>\n",
       "      <td>13</td>\n",
       "      <td>Finger Food, North Indian, Continental</td>\n",
       "      <td>1500.0</td>\n",
       "      <td>Pubs and bars</td>\n",
       "      <td>Whitefield</td>\n",
       "    </tr>\n",
       "  </tbody>\n",
       "</table>\n",
       "<p>51717 rows × 8 columns</p>\n",
       "</div>"
      ],
      "text/plain": [
       "      online_order book_table  rate  votes  \\\n",
       "0              Yes        Yes   4.0    775   \n",
       "1              Yes         No   4.0    787   \n",
       "2              Yes         No   4.0    918   \n",
       "3               No         No   4.0     88   \n",
       "4               No         No   4.0    166   \n",
       "...            ...        ...   ...    ...   \n",
       "51712           No         No   4.0     27   \n",
       "51713           No         No   5.0      0   \n",
       "51714           No         No   5.0      0   \n",
       "51715           No        Yes   4.0    236   \n",
       "51716           No         No   4.0     13   \n",
       "\n",
       "                                     cuisines    cost listed_in(type)  \\\n",
       "0              North Indian, Mughlai, Chinese   800.0          Buffet   \n",
       "1                 Chinese, North Indian, Thai   800.0          Buffet   \n",
       "2                      Cafe, Mexican, Italian   800.0          Buffet   \n",
       "3                  South Indian, North Indian   300.0          Buffet   \n",
       "4                    North Indian, Rajasthani   600.0          Buffet   \n",
       "...                                       ...     ...             ...   \n",
       "51712                             Continental  1500.0   Pubs and bars   \n",
       "51713                             Finger Food   600.0   Pubs and bars   \n",
       "51714                             Finger Food  2000.0   Pubs and bars   \n",
       "51715                             Finger Food  2500.0   Pubs and bars   \n",
       "51716  Finger Food, North Indian, Continental  1500.0   Pubs and bars   \n",
       "\n",
       "      listed_in(city)  \n",
       "0        Banashankari  \n",
       "1        Banashankari  \n",
       "2        Banashankari  \n",
       "3        Banashankari  \n",
       "4        Banashankari  \n",
       "...               ...  \n",
       "51712      Whitefield  \n",
       "51713      Whitefield  \n",
       "51714      Whitefield  \n",
       "51715      Whitefield  \n",
       "51716      Whitefield  \n",
       "\n",
       "[51717 rows x 8 columns]"
      ]
     },
     "execution_count": 73,
     "metadata": {},
     "output_type": "execute_result"
    }
   ],
   "source": [
    "df=zomato_df.drop(columns=cols_to_drop)\n",
    "df"
   ]
  },
  {
   "cell_type": "markdown",
   "id": "1dc0b7ed-802a-46e3-8207-80b58b3bc805",
   "metadata": {},
   "source": [
    "## Writing columns to keep and drop to yaml file"
   ]
  },
  {
   "cell_type": "code",
   "execution_count": null,
   "id": "bbe9a690-16df-474a-a812-834adc119e21",
   "metadata": {},
   "outputs": [],
   "source": [
    "import os\n",
    "def write_yaml_file(file_path: str, content: object, replace: bool = False) -> None:\n",
    "    try:\n",
    "        if replace:\n",
    "            if os.path.exists(file_path):\n",
    "                os.remove(file_path)\n",
    "\n",
    "        os.makedirs(os.path.dirname(file_path), exist_ok=True)\n",
    "\n",
    "        with open(file_path, \"w\") as file:\n",
    "            yaml.dump(content, file)\n",
    "\n",
    "    except Exception as e:\n",
    "        raise e"
   ]
  },
  {
   "cell_type": "code",
   "execution_count": 98,
   "id": "aa4f1758-1eac-4525-b524-46add3a9c05e",
   "metadata": {},
   "outputs": [],
   "source": [
    "import yaml\n",
    "write_yaml_file(file_path=\"work/schema.yaml\", content=cols_to_keep)"
   ]
  },
  {
   "cell_type": "code",
   "execution_count": 99,
   "id": "7025380c-fb50-4c42-ae1e-547946523670",
   "metadata": {},
   "outputs": [],
   "source": [
    "import os\n",
    "def append_yaml_file(file_path: str, content: object, replace: bool = False) -> None:\n",
    "    try:\n",
    "        if replace:\n",
    "            if os.path.exists(file_path):\n",
    "                os.remove(file_path)\n",
    "\n",
    "        os.makedirs(os.path.dirname(file_path), exist_ok=True)\n",
    "\n",
    "        with open(file_path, \"a\") as file:\n",
    "            yaml.dump(content, file)\n",
    "\n",
    "    except Exception as e:\n",
    "        raise e"
   ]
  },
  {
   "cell_type": "code",
   "execution_count": 100,
   "id": "717e0dfe-83aa-4e70-a42e-b61b207d525a",
   "metadata": {},
   "outputs": [],
   "source": [
    "append_yaml_file(file_path=\"work/schema.yaml\", content=cols_to_drop)"
   ]
  },
  {
   "cell_type": "code",
   "execution_count": null,
   "id": "aea4f996-dea0-4d46-93b5-dac34ee45e54",
   "metadata": {},
   "outputs": [],
   "source": []
  },
  {
   "cell_type": "markdown",
   "id": "f1943d3c-f761-4939-a552-ef88b253c9c0",
   "metadata": {},
   "source": [
    "# EDA yet to be completed as we move forward"
   ]
  },
  {
   "cell_type": "code",
   "execution_count": null,
   "id": "fb12978f-2b02-49b9-a832-a233c7aa064e",
   "metadata": {},
   "outputs": [],
   "source": []
  }
 ],
 "metadata": {
  "kernelspec": {
   "display_name": "Python 3 (ipykernel)",
   "language": "python",
   "name": "python3"
  },
  "language_info": {
   "codemirror_mode": {
    "name": "ipython",
    "version": 3
   },
   "file_extension": ".py",
   "mimetype": "text/x-python",
   "name": "python",
   "nbconvert_exporter": "python",
   "pygments_lexer": "ipython3",
   "version": "3.10.6"
  }
 },
 "nbformat": 4,
 "nbformat_minor": 5
}
